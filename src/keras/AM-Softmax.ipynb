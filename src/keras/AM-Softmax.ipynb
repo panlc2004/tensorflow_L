{
 "cells": [
  {
   "cell_type": "markdown",
   "metadata": {},
   "source": [
    "# Additive Margin Softmax"
   ]
  },
  {
   "cell_type": "markdown",
   "metadata": {},
   "source": [
    "### 1. Reference\n",
    "- [Additive Margin Softmax for Face Verification](https://arxiv.org/abs/1801.05599)\n",
    "\n",
    "- [Lochappy's github](https://github.com/lochappy/MyTensorflowPractices/blob/master/CNN/01-b-MNIST-AMSoftmax.ipynb)"
   ]
  },
  {
   "cell_type": "markdown",
   "metadata": {},
   "source": [
    "### 2. Theory\n",
    "#### Softmax:\n",
    "L2 normalize $w$ and $x$\n",
    "$$\n",
    "\\begin{aligned}\n",
    "L_s & = -\\frac{1}{n}\\sum_{i=1}^{n}{\\log{\\frac{e^{w_{y_i}^T x_i}}{\\sum_{j=1}^{c}{e^{w_j^T x_i}}}}} \\\\\n",
    "& = -\\frac{1}{n}\\sum_{i=1}^{n}{\\log{\\frac{e^{\\lVert w_{y_i}\\rVert \\lVert x_i\\rVert \\cos\\theta_{y_i}}}{\\sum_{j=1}^{c}{e^{\\lVert w_j\\rVert \\lVert x_i\\rVert \\cos\\theta_j}}}}} \\\\\n",
    "& = -\\frac{1}{n}\\sum_{i=1}^{n}{\\log{\\frac{e^{\\cos\\theta_{y_i}}}{\\sum_{j=1}^{c}{e^{\\cos\\theta_j}}}}}\n",
    "\\end{aligned}\n",
    "$$\n",
    "\n",
    "#### AM-Softmax:\n",
    "L2 normalize $w$ and $x$\n",
    "$$\n",
    "\\begin{aligned}\n",
    "L_{ams} & = -\\frac{1}{n}\\sum_{i=1}^{n}{\\log{\\frac{e^{s(\\cos\\theta_{y_i}-m)}}{e^{s(\\cos\\theta_{y_i}-m)}+\\sum_{j=1,j\\neq y_i}^{c}{e^{s\\cos\\theta_j}}}}} \\\\\n",
    "& = -\\frac{1}{n}\\sum_{i=1}^{n}{\\log{\\frac{e^{s(w_{y_i}^T x_i -m)}}{e^{s(w_{y_i}^T x_i-m)}+\\sum_{j=1,j\\neq y_i}^{c}{e^{sw_j^T x_i}}}}}\n",
    "\\end{aligned}\n",
    "$$\n",
    "\n",
    "suggest $s=30$, $m=0.35$"
   ]
  },
  {
   "cell_type": "markdown",
   "metadata": {},
   "source": [
    "### 3. implement"
   ]
  },
  {
   "cell_type": "code",
   "execution_count": 1,
   "metadata": {},
   "outputs": [],
   "source": [
    "#import tensorflow as tf\n",
    "import numpy as np"
   ]
  },
  {
   "cell_type": "markdown",
   "metadata": {},
   "source": [
    "input: $x\\_shape = (batch\\_size,4)\\qquad$ \n",
    "weight: $w\\_shape = (4,num\\_class)\\qquad$\n",
    "label: $y = [0,3,1]\\qquad$\n",
    "scale: $s=30\\qquad$\n",
    "$m=0.35$"
   ]
  },
  {
   "cell_type": "code",
   "execution_count": 2,
   "metadata": {
    "scrolled": true
   },
   "outputs": [
    {
     "name": "stdout",
     "output_type": "stream",
     "text": [
      "x= \n",
      " [[ 0  1  2  3]\n",
      " [ 4  5  6  7]\n",
      " [ 8  9 10 11]]\n",
      "w= \n",
      " [[-8 -7 -6 -5]\n",
      " [-4 -3 -2 -1]\n",
      " [ 0  1  2  3]\n",
      " [ 4  5  6  7]]\n",
      "y = [[0]\n",
      " [3]\n",
      " [1]] , s =  30 , m =  0.35\n"
     ]
    }
   ],
   "source": [
    "x = np.arange(12).reshape((3, 4))\n",
    "w = np.arange(16).reshape((4, 4))-8\n",
    "y = np.array([0, 3, 1]).reshape((-1,1))\n",
    "s = 30\n",
    "m = 0.35\n",
    "print('x= \\n', x)\n",
    "print('w= \\n', w)\n",
    "print('y =', y, ', s = ', s, ', m = ', m)"
   ]
  },
  {
   "cell_type": "markdown",
   "metadata": {},
   "source": [
    "L2 normalize $x$(by row) and $w$(by col)\n",
    "\n",
    "$\\frac{x}{\\lVert x\\rVert}$ and $\\frac{w}{\\lVert w\\rVert}$"
   ]
  },
  {
   "cell_type": "code",
   "execution_count": 3,
   "metadata": {},
   "outputs": [
    {
     "name": "stdout",
     "output_type": "stream",
     "text": [
      "x= \n",
      " [[ 0.          0.26726124  0.53452248  0.80178373]\n",
      " [ 0.35634832  0.4454354   0.53452248  0.62360956]\n",
      " [ 0.4181667   0.47043754  0.52270837  0.57497921]] \n",
      "\n",
      "w= \n",
      " [[-0.81649658 -0.76376262 -0.67082039 -0.54554473]\n",
      " [-0.40824829 -0.32732684 -0.2236068  -0.10910895]\n",
      " [ 0.          0.10910895  0.2236068   0.32732684]\n",
      " [ 0.40824829  0.54554473  0.67082039  0.76376262]]\n"
     ]
    }
   ],
   "source": [
    "x_l2 = (np.sum(x**2, axis=1)**(1/2)).reshape((-1,1))\n",
    "x = x / x_l2\n",
    "\n",
    "w_l2 = (np.sum(w**2, axis=0)**(1/2)).reshape((1,-1))\n",
    "w = w / w_l2\n",
    "\n",
    "print('x= \\n', x, '\\n')\n",
    "print('w= \\n', w)"
   ]
  },
  {
   "cell_type": "markdown",
   "metadata": {},
   "source": [
    "$\\cos\\theta_j = \\frac{x}{\\lVert x\\rVert} \\frac{w}{\\lVert w\\rVert}$"
   ]
  },
  {
   "cell_type": "code",
   "execution_count": 4,
   "metadata": {
    "scrolled": true
   },
   "outputs": [
    {
     "name": "stdout",
     "output_type": "stream",
     "text": [
      "[[ 0.21821789  0.40824829  0.5976143   0.7581754 ]\n",
      " [-0.21821789 -0.01944039  0.19920477  0.40824829]\n",
      " [-0.29875272 -0.10265789  0.11688115  0.33078652]]\n"
     ]
    }
   ],
   "source": [
    "cos = np.dot(x,w)\n",
    "print(cos)"
   ]
  },
  {
   "cell_type": "markdown",
   "metadata": {},
   "source": [
    "$s\\cdot(\\cos\\theta_{y_i}-m)$ and $s\\cdot\\cos\\theta_{j,j\\neq y_i}$"
   ]
  },
  {
   "cell_type": "code",
   "execution_count": 5,
   "metadata": {},
   "outputs": [
    {
     "name": "stdout",
     "output_type": "stream",
     "text": [
      "[[ 0.21821789]\n",
      " [ 0.40824829]\n",
      " [-0.10265789]]\n"
     ]
    }
   ],
   "source": [
    "groundtruth_score = []\n",
    "for i in range(cos.shape[0]):\n",
    "    groundtruth_score.append(float(cos[i][y[i]]))\n",
    "groundtruth_score = np.array(groundtruth_score).reshape((-1,1))\n",
    "print(groundtruth_score)"
   ]
  },
  {
   "cell_type": "code",
   "execution_count": 6,
   "metadata": {},
   "outputs": [
    {
     "name": "stdout",
     "output_type": "stream",
     "text": [
      "[[ 0.  ]\n",
      " [ 0.35]\n",
      " [ 0.  ]]\n"
     ]
    }
   ],
   "source": [
    "M = np.greater(groundtruth_score, m)*m\n",
    "print(M)"
   ]
  },
  {
   "cell_type": "code",
   "execution_count": 7,
   "metadata": {
    "scrolled": true
   },
   "outputs": [
    {
     "name": "stdout",
     "output_type": "stream",
     "text": [
      "one hot y = \n",
      " [[ 1.  0.  0.  0.]\n",
      " [ 0.  0.  0.  1.]\n",
      " [ 0.  1.  0.  0.]] \n",
      "\n",
      "cos-m = \n",
      " [[ 0.21821789  0.40824829  0.5976143   0.7581754 ]\n",
      " [-0.21821789 -0.01944039  0.19920477  0.05824829]\n",
      " [-0.29875272 -0.10265789  0.11688115  0.33078652]]\n",
      "only change 1 value, from 0.4082 to 0.0582.\n"
     ]
    }
   ],
   "source": [
    "one_hot_y = np.zeros(cos.shape)\n",
    "for i in range(len(one_hot_y)):\n",
    "    one_hot_y[i][y[i]] = 1.\n",
    "print('one hot y = \\n', one_hot_y, '\\n')\n",
    "cos_min_m = (cos - one_hot_y * M)\n",
    "print('cos-m = \\n', cos_min_m)\n",
    "print('only change 1 value, from 0.4082 to 0.0582.')"
   ]
  },
  {
   "cell_type": "markdown",
   "metadata": {},
   "source": [
    "$\\exp(s\\cdot(\\cos\\theta_{y_i}-m))$ and $\\exp(s\\cdot\\cos\\theta_{j,j\\neq y_i})$"
   ]
  },
  {
   "cell_type": "code",
   "execution_count": 8,
   "metadata": {
    "scrolled": true
   },
   "outputs": [
    {
     "name": "stdout",
     "output_type": "stream",
     "text": [
      "[[  6.96826675e+02   2.08448797e+05   6.11248554e+07   7.55338691e+09]\n",
      " [  1.43507709e-03   5.58102945e-01   3.93918111e+02   5.73993975e+00]\n",
      " [  1.28115085e-04   4.59713640e-02   3.33292159e+01   2.04062337e+04]]\n"
     ]
    }
   ],
   "source": [
    "exp_feature = np.exp(cos_min_m*s)\n",
    "print(exp_feature)"
   ]
  },
  {
   "cell_type": "markdown",
   "metadata": {},
   "source": [
    "$e^{s(\\cos\\theta_{y_i}-m)}+\\sum_{j=1,j\\neq y_i}^{c}{e^{s\\cos\\theta_j}}$"
   ]
  },
  {
   "cell_type": "code",
   "execution_count": 9,
   "metadata": {
    "scrolled": true
   },
   "outputs": [
    {
     "name": "stdout",
     "output_type": "stream",
     "text": [
      "[[  7.61472091e+09]\n",
      " [  4.00217588e+02]\n",
      " [  2.04396090e+04]]\n"
     ]
    }
   ],
   "source": [
    "sum_feature = np.sum(exp_feature, axis=1).reshape((-1,1))\n",
    "print(sum_feature)"
   ]
  },
  {
   "cell_type": "markdown",
   "metadata": {},
   "source": [
    "$\\frac{e^{s(\\cos\\theta_{y_i}-m)}}{e^{s(\\cos\\theta_{y_i}-m)}+\\sum_{j=1,j\\neq y_i}^{c}{e^{s\\cos\\theta_j}}}$"
   ]
  },
  {
   "cell_type": "code",
   "execution_count": 10,
   "metadata": {},
   "outputs": [
    {
     "name": "stdout",
     "output_type": "stream",
     "text": [
      "feature_groundtruth_norm = \n",
      " [[  9.15104681e-08]\n",
      " [  1.43420477e-02]\n",
      " [  2.24913128e-06]]\n"
     ]
    }
   ],
   "source": [
    "feature_norm = exp_feature / sum_feature\n",
    "feature_groundtruth_norm = np.sum(feature_norm * one_hot_y, axis=1).reshape((-1,1))\n",
    "print('feature_groundtruth_norm = \\n', feature_groundtruth_norm)"
   ]
  },
  {
   "cell_type": "markdown",
   "metadata": {},
   "source": [
    "$loss = -\\frac{1}{n}\\sum_{i=1}^{n}{\\log{\\frac{e^{s(\\cos\\theta_{y_i}-m)}}{e^{s(\\cos\\theta_{y_i}-m)}+\\sum_{j=1,j\\neq y_i}^{c}{e^{s\\cos\\theta_j}}}}}$"
   ]
  },
  {
   "cell_type": "code",
   "execution_count": 11,
   "metadata": {},
   "outputs": [
    {
     "name": "stdout",
     "output_type": "stream",
     "text": [
      "[[ 5.40227082]\n",
      " [ 1.41485322]\n",
      " [ 4.33498884]]\n"
     ]
    }
   ],
   "source": [
    "loss = -1/3*np.log(np.sum(feature_groundtruth_norm, axis=1)).reshape((-1,1))\n",
    "print(loss)"
   ]
  }
 ],
 "metadata": {
  "kernelspec": {
   "display_name": "Python 3",
   "language": "python",
   "name": "python3"
  },
  "language_info": {
   "codemirror_mode": {
    "name": "ipython",
    "version": 3.0
   },
   "file_extension": ".py",
   "mimetype": "text/x-python",
   "name": "python",
   "nbconvert_exporter": "python",
   "pygments_lexer": "ipython3",
   "version": "3.6.4"
  }
 },
 "nbformat": 4,
 "nbformat_minor": 0
}
